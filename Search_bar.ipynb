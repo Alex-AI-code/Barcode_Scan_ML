{
 "metadata": {
  "language_info": {
   "codemirror_mode": {
    "name": "ipython",
    "version": 3
   },
   "file_extension": ".py",
   "mimetype": "text/x-python",
   "name": "python",
   "nbconvert_exporter": "python",
   "pygments_lexer": "ipython3",
   "version": "3.7.9"
  },
  "orig_nbformat": 4,
  "kernelspec": {
   "name": "python3",
   "display_name": "Python 3.7.9 64-bit ('myenv': conda)"
  },
  "interpreter": {
   "hash": "948d7a2360735b5d9919d76f70f1def2fe8bb5af33f946732329cdd4db2b50af"
  }
 },
 "nbformat": 4,
 "nbformat_minor": 2,
 "cells": [
  {
   "cell_type": "code",
   "execution_count": 9,
   "metadata": {},
   "outputs": [
    {
     "output_type": "stream",
     "name": "stderr",
     "text": [
      "Exception in Tkinter callback\nTraceback (most recent call last):\n  File \"C:\\Users\\depau\\anaconda3\\envs\\myenv\\lib\\tkinter\\__init__.py\", line 1705, in __call__\n    return self.func(*args)\n  File \"<ipython-input-9-65e2e899a7c3>\", line 60, in keydown\n    getSearch()\n  File \"<ipython-input-9-65e2e899a7c3>\", line 56, in getSearch\n    displayData(result)\n  File \"<ipython-input-9-65e2e899a7c3>\", line 34, in displayData\n    if (len(result[0]) == 6):\nIndexError: list index out of range\n"
     ]
    }
   ],
   "source": [
    "# Graphic User Interface \n",
    "# Searchbar \n",
    "# INPUT: user types out the ISBN, author (exact) or title (exact)\n",
    "# OUTPUT: prints out results from the database \n",
    "import sqlite3\n",
    "\n",
    "# we need some variable to connect to our database\n",
    "# following line of code creates a database called library\n",
    "conn = sqlite3.connect('library.db')\n",
    "\n",
    "# create a cursor\n",
    "cursor = conn.cursor()\n",
    "\n",
    "from tkinter import *\n",
    "\n",
    "# function located in datbase_holder.py, pulls rows of the database that correspond to search\n",
    "#from database_holder import SearchData\n",
    "\n",
    "root = Tk()\n",
    "\n",
    "# --------------------------------------------------------------------------------------------------\n",
    "'''\n",
    "Input: rows from the database\n",
    "Output: new window with a graphic representation of the database\n",
    "'''\n",
    "\n",
    "\n",
    "def displayData(result):\n",
    "\n",
    "    # rows represent one book in the database\n",
    "    # len(result) represents how many books were found by search function in the database\n",
    "    \n",
    "    # adds header for the search bar results\n",
    "    if (len(result[0]) == 6):\n",
    "        header = ('ISBN', 'Title', 'Author', 'Published', 'Owner of the book', 'Current holder')\n",
    "        result.insert(0, header)\n",
    "    \n",
    "    root2 = Tk()\n",
    "    for i in range(len(result)):\n",
    "        for j in range(len(result[0])):\n",
    "            Label(root2, text = result[i][j], padx = 20).grid(row=i, column=j)\n",
    "\n",
    "# --------------------------------------------------------------------------------------------------\n",
    "def SearchData(search):\n",
    "    sql = 'SELECT * FROM library WHERE isbn like ? OR author like ? OR title like ?'\n",
    "    tuple = (search, search, search)\n",
    "    cursor.execute(sql, tuple)\n",
    "    output = cursor.fetchall()\n",
    "    conn.commit()\n",
    "    return output\n",
    "\n",
    "def getSearch():\n",
    "    search = searchBar.get()\n",
    "    result = SearchData(search)\n",
    "    root.destroy()\n",
    "    displayData(result)\n",
    "\n",
    "\n",
    "def keydown(e):\n",
    "    getSearch()\n",
    "# --------------------------------------------------------------------------------------------------\n",
    "\n",
    "\n",
    "# creates SearchBox widget\n",
    "descr = Label(root, text='Search ISBN, author or title of the book')\n",
    "descr.grid(row=0, column=0)\n",
    "searchBar = Entry(root, width=75)\n",
    "searchBar.grid(row=10, column=0)\n",
    "\n",
    "# when Enter is pressed, text from the searchbar is retrieved into search variable\n",
    "root.bind(\"<Return>\", keydown)\n",
    "root.mainloop()\n",
    "\n",
    "# --------------------------------------------------------------------------------------------------"
   ]
  },
  {
   "cell_type": "code",
   "execution_count": null,
   "metadata": {},
   "outputs": [],
   "source": []
  }
 ]
}