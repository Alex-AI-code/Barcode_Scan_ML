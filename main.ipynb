{
 "metadata": {
  "language_info": {
   "codemirror_mode": {
    "name": "ipython",
    "version": 3
   },
   "file_extension": ".py",
   "mimetype": "text/x-python",
   "name": "python",
   "nbconvert_exporter": "python",
   "pygments_lexer": "ipython3",
   "version": "3.7.9"
  },
  "orig_nbformat": 4,
  "kernelspec": {
   "name": "python3",
   "display_name": "Python 3.7.9 64-bit ('myenv': conda)"
  },
  "interpreter": {
   "hash": "948d7a2360735b5d9919d76f70f1def2fe8bb5af33f946732329cdd4db2b50af"
  }
 },
 "nbformat": 4,
 "nbformat_minor": 2,
 "cells": [
  {
   "cell_type": "code",
   "execution_count": 1,
   "metadata": {},
   "outputs": [],
   "source": [
    "# This is the notebook that initializes the library\n",
    "%run database_holder.ipynb"
   ]
  },
  {
   "cell_type": "code",
   "execution_count": 2,
   "metadata": {},
   "outputs": [
    {
     "output_type": "stream",
     "name": "stdout",
     "text": [
      "9781473223288\nPhilip K. Dick's Electric Dreams: Volume 1: The stories which inspired the hit Channel 4 series\nDick, Philip K.\nGollancz, 2017\n"
     ]
    }
   ],
   "source": [
    "# This is the notbook that contains all the GUI and calls all the other notebooks\n",
    "%run tkinter.ipynb"
   ]
  }
 ]
}