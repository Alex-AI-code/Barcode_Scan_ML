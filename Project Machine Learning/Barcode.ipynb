{
 "metadata": {
  "language_info": {
   "codemirror_mode": {
    "name": "ipython",
    "version": 3
   },
   "file_extension": ".py",
   "mimetype": "text/x-python",
   "name": "python",
   "nbconvert_exporter": "python",
   "pygments_lexer": "ipython3",
   "version": "3.7.9"
  },
  "orig_nbformat": 2,
  "kernelspec": {
   "name": "python379jvsc74a57bd0948d7a2360735b5d9919d76f70f1def2fe8bb5af33f946732329cdd4db2b50af",
   "display_name": "Python 3.7.9 64-bit ('myenv': conda)"
  }
 },
 "nbformat": 4,
 "nbformat_minor": 2,
 "cells": [
  {
   "cell_type": "code",
   "execution_count": 2,
   "metadata": {},
   "outputs": [
    {
     "output_type": "stream",
     "name": "stdout",
     "text": [
      "Requirement already satisfied: Pillow in c:\\users\\depau\\anaconda3\\envs\\myenv\\lib\\site-packages (8.0.1)\nNote: you may need to restart the kernel to use updated packages.\n"
     ]
    }
   ],
   "source": [
    "pip install Pillow"
   ]
  },
  {
   "cell_type": "code",
   "execution_count": 3,
   "metadata": {},
   "outputs": [
    {
     "output_type": "stream",
     "name": "stdout",
     "text": [
      "Collecting opencv-python\n  Downloading opencv_python-4.5.2.54-cp37-cp37m-win_amd64.whl (34.7 MB)\nRequirement already satisfied: numpy>=1.14.5 in c:\\users\\depau\\anaconda3\\envs\\myenv\\lib\\site-packages (from opencv-python) (1.19.2)\nInstalling collected packages: opencv-python\nSuccessfully installed opencv-python-4.5.2.54\nNote: you may need to restart the kernel to use updated packages.\n"
     ]
    }
   ],
   "source": [
    "pip install opencv-python"
   ]
  },
  {
   "cell_type": "code",
   "execution_count": 4,
   "metadata": {},
   "outputs": [
    {
     "output_type": "stream",
     "name": "stdout",
     "text": [
      "Collecting pyzbar\n",
      "  Downloading pyzbar-0.1.8-py2.py3-none-win_amd64.whl (813 kB)\n",
      "Installing collected packages: pyzbar\n",
      "Successfully installed pyzbar-0.1.8\n",
      "Note: you may need to restart the kernel to use updated packages.\n",
      "  WARNING: The script read_zbar.exe is installed in 'C:\\Users\\depau\\anaconda3\\envs\\myenv\\Scripts' which is not on PATH.\n",
      "  Consider adding this directory to PATH or, if you prefer to suppress this warning, use --no-warn-script-location.\n"
     ]
    }
   ],
   "source": [
    "pip install pyzbar"
   ]
  },
  {
   "cell_type": "code",
   "execution_count": 17,
   "metadata": {},
   "outputs": [],
   "source": [
    "#import libraries\n",
    "import cv2\n",
    "from pyzbar import pyzbar"
   ]
  },
  {
   "cell_type": "code",
   "execution_count": 18,
   "metadata": {},
   "outputs": [],
   "source": [
    "def read_barcodes(frame):\n",
    "    barcodes = pyzbar.decode(frame)\n",
    "    for barcode in barcodes:\n",
    "        x, y , w, h = barcode.rect\n",
    "        #1\n",
    "        barcode_info = barcode.data.decode('utf-8')\n",
    "        cv2.rectangle(frame, (x, y),(x+w, y+h), (0, 255, 0), 2)\n",
    "        \n",
    "        #2\n",
    "        font = cv2.FONT_HERSHEY_DUPLEX\n",
    "        cv2.putText(frame, barcode_info, (x + 6, y - 6), font, 2.0, (255, 255, 255), 1)\n",
    "        #3\n",
    "        with open(\"barcode_result.txt\", mode ='w') as file:\n",
    "            file.write(\"Recognized Barcode:\" + barcode_info)\n",
    "    return frame"
   ]
  },
  {
   "cell_type": "code",
   "execution_count": 20,
   "metadata": {},
   "outputs": [],
   "source": [
    "def main():\n",
    "    #1\n",
    "    camera = cv2.VideoCapture(0)\n",
    "    ret, frame = camera.read()\n",
    "    #2\n",
    "    while ret:\n",
    "        ret, frame = camera.read()\n",
    "        frame = read_barcodes(frame)\n",
    "        cv2.imshow('Barcode/QR code reader', frame)\n",
    "        if cv2.waitKey(1) & 0xFF == 27:\n",
    "            break\n",
    "    #3\n",
    "    camera.release()\n",
    "    cv2.destroyAllWindows()\n",
    "#4\n",
    "if __name__ == '__main__':\n",
    "    main()"
   ]
  }
 ]
}