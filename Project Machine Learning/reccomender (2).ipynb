{
 "cells": [
  {
   "cell_type": "code",
   "execution_count": 3,
   "metadata": {},
   "outputs": [
    {
     "data": {
      "text/plain": [
       "'\\nTf-idf Vectorizer Object removes all English stop words such as ‘the’, ‘a’ etc.\\nWe are replacing the Null(empty) values with an empty string so that it doesn’t return an error message when training them.\\nLastly, we are constructing the required Tf-idf matrix by fitting and transforming the data\\n'"
      ]
     },
     "execution_count": 3,
     "metadata": {},
     "output_type": "execute_result"
    }
   ],
   "source": [
    "import sqlite3\n",
    "import pandas as pd\n",
    "import numpy as np\n",
    "from sklearn.metrics.pairwise import cosine_similarity\n",
    "from sklearn.metrics import mean_squared_error\n",
    "from sklearn.model_selection import train_test_split\n",
    "from sklearn.feature_extraction.text import TfidfVectorizer\n",
    "from sklearn.metrics.pairwise import linear_kernel\n",
    "\n",
    "\n",
    "conn2 = sqlite3.connect('library.db')\n",
    "query = \"SELECT title,author FROM library ;\"\n",
    "\n",
    "book_df = pd.read_sql_query(query, conn2)\n",
    "books_tfidf = TfidfVectorizer(stop_words='english')\n",
    "\n",
    "book_df['title'] = book_df['title'].fillna('')\n",
    "book_df['author'] = book_df['author'].fillna('')\n",
    "'''\n",
    "Tf-idf Vectorizer Object removes all English stop words such as ‘the’, ‘a’ etc.\n",
    "We are replacing the Null(empty) values with an empty string so that it doesn’t return an error message when training them.\n",
    "Lastly, we are constructing the required Tf-idf matrix by fitting and transforming the data\n",
    "'''"
   ]
  },
  {
   "cell_type": "code",
   "execution_count": 4,
   "metadata": {},
   "outputs": [],
   "source": [
    "book_Name_matrix = books_tfidf.fit_transform(book_df['title'])"
   ]
  },
  {
   "cell_type": "code",
   "execution_count": 5,
   "metadata": {},
   "outputs": [],
   "source": [
    "cosine_similarity = linear_kernel(book_Name_matrix, book_Name_matrix)"
   ]
  },
  {
   "cell_type": "code",
   "execution_count": 6,
   "metadata": {},
   "outputs": [],
   "source": [
    "indices = pd.Series(book_df['title'].index)\n",
    "def recommendBasedOnName(index, cosine_sim=cosine_similarity):\n",
    "    id = indices[index]\n",
    "    # Get the pairwsie similarity scores of all books compared to that book, \n",
    "    # sorting them and getting top 5\n",
    "    similarity_scores = list(enumerate(cosine_sim[id]))\n",
    "    similarity_scores = sorted(similarity_scores, key=lambda x: x[1], reverse=True)\n",
    "    similarity_scores = similarity_scores[1:4]\n",
    "\n",
    "    # Get the books index\n",
    "    books_index = [i[0] for i in similarity_scores]\n",
    "\n",
    "    # Return the top 5 most similar books using integer-location based indexing (iloc)\n",
    "    return book_df['title'].iloc[books_index]"
   ]
  },
  {
   "cell_type": "code",
   "execution_count": 11,
   "metadata": {},
   "outputs": [
    {
     "name": "stdout",
     "output_type": "stream",
     "text": [
      "0    0\n",
      "1    1\n",
      "2    2\n",
      "3    3\n",
      "dtype: int64\n"
     ]
    }
   ],
   "source": [
    "book_author_matrix = books_tfidf.fit_transform(book_df['author'])\n",
    "cosine_similarity_author = linear_kernel(book_author_matrix, book_author_matrix)\n",
    "indices_2 = pd.Series(book_df['author'].index)\n",
    "def recommendBasedOnAuthor(index, cosine_sim=cosine_similarity_author):\n",
    "    id = indices_2[index]\n",
    "    # Get the pairwsie similarity scores of all books compared to that book, \n",
    "    # sorting them and getting top 5\n",
    "    similarity_scores = list(enumerate(cosine_sim[id]))\n",
    "    similarity_scores = sorted(similarity_scores, key=lambda x: x[1], reverse=True)\n",
    "    similarity_scores = similarity_scores[1:4]\n",
    "\n",
    "    # Get the books index\n",
    "    books_index = [i[0] for i in similarity_scores]\n",
    "\n",
    "    # Return the top 5 most similar books using integer-location based indexing (iloc)\n",
    "    return book_df['author'].iloc[books_index]\n"
   ]
  },
  {
   "cell_type": "code",
   "execution_count": 12,
   "metadata": {},
   "outputs": [],
   "source": [
    "def finalRecommend(index):\n",
    "    return recommendBasedOnAuthor(index) + '\\n' + recommendBasedOnName(index)\n",
    "    "
   ]
  },
  {
   "cell_type": "code",
   "execution_count": 13,
   "metadata": {},
   "outputs": [
    {
     "data": {
      "text/plain": [
       "0                                                  NaN\n",
       "1    J.K Rowling\\nHarry Potter and the Philosophers...\n",
       "2                                                  NaN\n",
       "3                                                  NaN\n",
       "dtype: object"
      ]
     },
     "execution_count": 13,
     "metadata": {},
     "output_type": "execute_result"
    }
   ],
   "source": [
    "finalRecommend(2)"
   ]
  },
  {
   "cell_type": "code",
   "execution_count": null,
   "metadata": {},
   "outputs": [],
   "source": []
  }
 ],
 "metadata": {
  "kernelspec": {
   "display_name": "Python 3",
   "language": "python",
   "name": "python3"
  },
  "language_info": {
   "codemirror_mode": {
    "name": "ipython",
    "version": 3
   },
   "file_extension": ".py",
   "mimetype": "text/x-python",
   "name": "python",
   "nbconvert_exporter": "python",
   "pygments_lexer": "ipython3",
   "version": "3.8.5"
  }
 },
 "nbformat": 4,
 "nbformat_minor": 4
}
