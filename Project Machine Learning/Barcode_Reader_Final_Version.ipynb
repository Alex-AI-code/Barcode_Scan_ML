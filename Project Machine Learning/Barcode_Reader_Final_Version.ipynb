{
 "metadata": {
  "language_info": {
   "codemirror_mode": {
    "name": "ipython",
    "version": 3
   },
   "file_extension": ".py",
   "mimetype": "text/x-python",
   "name": "python",
   "nbconvert_exporter": "python",
   "pygments_lexer": "ipython3",
   "version": "3.7.9"
  },
  "orig_nbformat": 2,
  "kernelspec": {
   "name": "python3",
   "display_name": "Python 3.7.9 64-bit ('myenv': conda)"
  },
  "interpreter": {
   "hash": "948d7a2360735b5d9919d76f70f1def2fe8bb5af33f946732329cdd4db2b50af"
  }
 },
 "nbformat": 4,
 "nbformat_minor": 2,
 "cells": [
  {
   "cell_type": "code",
   "execution_count": 1,
   "metadata": {},
   "outputs": [
    {
     "output_type": "stream",
     "name": "stdout",
     "text": [
      "Requirement already satisfied: Pillow in c:\\users\\depau\\anaconda3\\envs\\myenv\\lib\\site-packages (8.0.1)\nNote: you may need to restart the kernel to use updated packages.\n"
     ]
    }
   ],
   "source": [
    "pip install Pillow"
   ]
  },
  {
   "cell_type": "code",
   "execution_count": 2,
   "metadata": {},
   "outputs": [
    {
     "output_type": "stream",
     "name": "stdout",
     "text": [
      "Note: you may need to restart the kernel to use updated packages.\n",
      "ERROR: Invalid requirement: '#'\n"
     ]
    }
   ],
   "source": [
    "pip install opencv-python # open source computer vision library"
   ]
  },
  {
   "cell_type": "code",
   "execution_count": 3,
   "metadata": {},
   "outputs": [
    {
     "output_type": "stream",
     "name": "stdout",
     "text": [
      "Note: you may need to restart the kernel to use updated packages.\n",
      "ERROR: Invalid requirement: '#'\n"
     ]
    }
   ],
   "source": [
    "pip install pyzbar # reads one-dimentional barcodes"
   ]
  },
  {
   "cell_type": "code",
   "execution_count": 1,
   "metadata": {},
   "outputs": [],
   "source": [
    "#import libraries\n",
    "import cv2\n",
    "from pyzbar import pyzbar\n",
    "import os"
   ]
  },
  {
   "cell_type": "code",
   "execution_count": 2,
   "metadata": {},
   "outputs": [],
   "source": [
    "def read_barcodes(frame):\n",
    "    barcodes = pyzbar.decode(frame)\n",
    "    for barcode in barcodes:\n",
    "        x, y , w, h = barcode.rect\n",
    "        #1\n",
    "        barcode_info = barcode.data.decode('utf-8') # decode the barcode\n",
    "        cv2.rectangle(frame, (x, y),(x+w, y+h), (0, 255, 0), 2) # draw a rectangle around it\n",
    "        \n",
    "        #2\n",
    "        font = cv2.FONT_HERSHEY_DUPLEX\n",
    "        cv2.putText(frame, barcode_info, (x + 6, y - 6), font, 2.0, (255, 255, 255), 1) # add text ontop of the rectangle that desplay the decoded information\n",
    "        \n",
    "        #3 \n",
    "        file = open (\"barcode_results.txt\",'a') # open text document\n",
    "        data = file.write(barcode_info + '\\n') # write the ISBN in it\n",
    "        file.close() # close the text document\n",
    "    return frame"
   ]
  },
  {
   "cell_type": "code",
   "execution_count": 3,
   "metadata": {},
   "outputs": [],
   "source": [
    "def main():\n",
    "    #1\n",
    "    camera = cv2.VideoCapture(0) # turn camera on using OpenCV\n",
    "    ret, frame = camera.read()\n",
    "\n",
    "    # check_file = os.stat(\"barcode_re.txt\").st_size\n",
    "    \n",
    "    #2\n",
    "    while ret: # while loop to decode new barcodes until the 'ESC' key is pressed\n",
    "        ret, frame = camera.read()\n",
    "        frame = read_barcodes(frame)\n",
    "        cv2.imshow('Barcode/QR code reader', frame)\n",
    "        if cv2.waitKey(1) & 0xFF == 27:\n",
    "            break\n",
    "\n",
    "    #3\n",
    "    camera.release() # methods of OpenCV that close the camera and the application\n",
    "    cv2.destroyAllWindows()\n",
    "#4\n",
    "if __name__ == '__main__': # call the main function to trigger the program\n",
    "    main()"
   ]
  },
  {
   "cell_type": "code",
   "execution_count": 1,
   "metadata": {},
   "outputs": [],
   "source": [
    "# taking only the unique lines (to not have any doubles)\n",
    "uniqlines = set(open('barcode_results.txt').readlines()) # read every line of the text document\n",
    "bar = open('barcode_results.txt', 'w') \n",
    "bar.writelines(set(uniqlines)) # write only the unique lines\n",
    "bar.close() # close the text document\n",
    "# open('barcode_re.txt', 'w').close()"
   ]
  }
 ]
}