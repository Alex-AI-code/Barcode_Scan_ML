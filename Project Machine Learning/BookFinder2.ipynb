{
 "metadata": {
  "language_info": {
   "codemirror_mode": {
    "name": "ipython",
    "version": 3
   },
   "file_extension": ".py",
   "mimetype": "text/x-python",
   "name": "python",
   "nbconvert_exporter": "python",
   "pygments_lexer": "ipython3",
   "version": "3.7.9"
  },
  "orig_nbformat": 4,
  "kernelspec": {
   "name": "python3",
   "display_name": "Python 3.7.9 64-bit ('myenv': conda)"
  },
  "interpreter": {
   "hash": "948d7a2360735b5d9919d76f70f1def2fe8bb5af33f946732329cdd4db2b50af"
  }
 },
 "nbformat": 4,
 "nbformat_minor": 2,
 "cells": [
  {
   "cell_type": "code",
   "execution_count": 1,
   "metadata": {},
   "outputs": [],
   "source": [
    "from urllib.request import urlopen\n",
    "from bs4 import BeautifulSoup\n",
    "from urllib.request import Request"
   ]
  },
  {
   "cell_type": "code",
   "execution_count": 8,
   "metadata": {},
   "outputs": [
    {
     "output_type": "stream",
     "name": "stdout",
     "text": [
      "9781473223288\n<class 'str'>\n"
     ]
    }
   ],
   "source": [
    "# WEB SCRAPING ATTEMPT NUMBER 67786855365\n",
    "# source: BookFinder.com\n",
    "# input: ISBN integer (preferably no whitespaces, dashes, etc.)\n",
    "# output: variables containing author, title and year\n",
    "\n",
    "barcode = open(\"barcode_results.txt\",\"r\")\n",
    "\n",
    "ISBN = barcode.read()  # <- will be substituted with actual output from Machine Learning\n",
    "l = len(ISBN)\n",
    "ISBN = ISBN[:l-1] #I get rid of the last digit because it is the operator '\\n' that changes line\n",
    "\n",
    "site = 'https://www.bookfinder.com/search/?isbn=' + str(ISBN) + '&mode=isbn&st=sr&ac=qr'\n",
    "\n",
    "# padding to avoid HTTP 4003 error\n",
    "hdr = {'User-Agent': 'Mozilla/5.0'}\n",
    "req = Request(site, headers=hdr)\n",
    "url = urlopen(req)\n",
    "\n",
    "# Create BeautifulSoup object\n",
    "bs = BeautifulSoup(url, 'html.parser')\n",
    "print(ISBN)"
   ]
  },
  {
   "cell_type": "code",
   "execution_count": 7,
   "metadata": {},
   "outputs": [
    {
     "output_type": "stream",
     "name": "stdout",
     "text": [
      "Philip K. Dick's Electric Dreams: Volume 1: The stories which inspired the hit Channel 4 series\nDick, Philip K.\nGollancz, 2017\n"
     ]
    }
   ],
   "source": [
    "# Search segment, based on html architecture of BookFinder.com\n",
    "title = bs.find('div', {'class': 'attributes'}).find('span', {'itemprop': 'name'})\n",
    "print(title.get_text())\n",
    "\n",
    "author = bs.find('div', {'class': 'attributes'}).find('span', {'itemprop': 'author'})\n",
    "if (author == None):\n",
    "    print('Author name is unavailable')\n",
    "    author = 'N/A'\n",
    "else:\n",
    "    print(author.get_text())\n",
    "\n",
    "year = bs.find('div', {'class': 'attributes'}).find('span', {'itemprop': 'publisher'})\n",
    "if (year == None):\n",
    "    print('Year is unavailable')\n",
    "    year = 'N/A'\n",
    "else:\n",
    "    print(year.get_text())\n"
   ]
  },
  {
   "cell_type": "code",
   "execution_count": null,
   "metadata": {},
   "outputs": [],
   "source": [
    "file = open (\"results.txt\",'a') # open text document\n",
    "data = file.write(ISBN + '\\n') # write the ISBN in it\n",
    "data = file.write(title.get_text() + '\\n') # write the ISBN in it\n",
    "data = file.write(author.get_text() + '\\n') # write the ISBN in it\n",
    "data = file.write(year.get_text() + '\\n') # write the ISBN in it\n",
    "file.close() # close the text document"
   ]
  }
 ]
}