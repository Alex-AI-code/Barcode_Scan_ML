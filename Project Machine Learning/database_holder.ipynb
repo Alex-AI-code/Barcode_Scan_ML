{
 "metadata": {
  "language_info": {
   "codemirror_mode": {
    "name": "ipython",
    "version": 3
   },
   "file_extension": ".py",
   "mimetype": "text/x-python",
   "name": "python",
   "nbconvert_exporter": "python",
   "pygments_lexer": "ipython3",
   "version": "3.7.9"
  },
  "orig_nbformat": 4,
  "kernelspec": {
   "name": "python3",
   "display_name": "Python 3.7.9 64-bit ('myenv': conda)"
  },
  "interpreter": {
   "hash": "948d7a2360735b5d9919d76f70f1def2fe8bb5af33f946732329cdd4db2b50af"
  }
 },
 "nbformat": 4,
 "nbformat_minor": 2,
 "cells": [
  {
   "cell_type": "code",
   "execution_count": 1,
   "metadata": {},
   "outputs": [],
   "source": [
    "import sqlite3\n",
    "\n",
    "# we need some variable to connect to our database\n",
    "# following line of code creates a database called library\n",
    "conn = sqlite3.connect('library.db')\n",
    "\n",
    "# create a cursor\n",
    "cursor = conn.cursor()\n",
    "\n",
    "\n",
    "# create a table\n",
    "# Available data types for sqlite: NULL, INTEGER, REAL, TEXT, BLOB\n",
    "create_library_table = \"\"\"\n",
    "CREATE TABLE IF NOT EXISTS library (\n",
    "  isbn TEXT PRIMARY KEY,\n",
    "  author TEXT,\n",
    "  title TEXT,\n",
    "  year INTEGER,\n",
    "  owner TEXT,\n",
    "  holder TEXT\n",
    "  \n",
    ");\n",
    "\"\"\"\n",
    "\n",
    "\n",
    "cursor.execute(create_library_table)\n",
    "# --------------------------------------\n",
    "# populating function, must be called after web scraper and user fill prompt are done working\n",
    "# adds only unique entries\n",
    "\n",
    "\n",
    "def new_book(ISBN, author, title, year, owner):\n",
    "    sql = '''INSERT OR IGNORE INTO library (isbn, author, title, year, owner, holder) \n",
    "                   VALUES (?, ?, ?, ?, ?, ?) '''\n",
    "    row = (ISBN, author, title, year, owner, owner)\n",
    "    cursor.execute(sql, row)\n",
    "    conn.commit()\n",
    "\n",
    "# --------------------------------------\n",
    "\n",
    "\n",
    "'''\n",
    "Input: search variable from GUI\n",
    "Output: rows of the table containing relevant information\n",
    "'''\n",
    "\n",
    "\n",
    "def SearchData(search):\n",
    "    sql = 'SELECT * FROM library WHERE isbn like ? OR author like ? OR title like ?'\n",
    "    tuple = (search, search, search)\n",
    "    cursor.execute(sql, tuple)\n",
    "    output = cursor.fetchall()\n",
    "    conn.commit()\n",
    "    return output\n",
    "\n",
    "\n",
    "# commit our command\n",
    "conn.commit();\n",
    "\n",
    "# close our connection"
   ]
  }
 ]
}