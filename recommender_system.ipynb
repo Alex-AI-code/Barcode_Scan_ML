{
 "cells": [
  {
   "cell_type": "code",
   "execution_count": 28,
   "metadata": {},
   "outputs": [
    {
     "name": "stdout",
     "output_type": "stream",
     "text": [
      "The Puffin Book of Nonsense Verse\n"
     ]
    }
   ],
   "source": [
    "import sqlite3\n",
    "import pandas as pd\n",
    "import numpy as np\n",
    "from sklearn.metrics.pairwise import cosine_similarity\n",
    "from sklearn.metrics import mean_squared_error\n",
    "from sklearn.model_selection import train_test_split\n",
    "from sklearn.feature_extraction.text import TfidfVectorizer\n",
    "from sklearn.metrics.pairwise import linear_kernel\n",
    "conn2 = sqlite3.connect('library.db')\n",
    "query = \"SELECT title,author FROM library ;\"\n",
    "\n",
    "book_df2 = pd.read_sql_query(query, conn2)\n",
    "books_tfidf = TfidfVectorizer(stop_words='english')\n",
    "\n",
    "\n",
    "book_df2['title'] = book_df2['title'].fillna('')\n",
    "book_df2['author'] = book_df2['author'].fillna('')\n",
    "'''\n",
    "Tf-idf Vectorizer Object removes all English stop words such as ‘the’, ‘a’ etc.\n",
    "We are replacing the Null(empty) values with an empty string so that it doesn’t return an error message when training them.\n",
    "Lastly, we are constructing the required Tf-idf matrix by fitting and transforming the data\n",
    "'''\n",
    "\n",
    "book_Name_matrix = books_tfidf.fit_transform(book_df2['title'])\n",
    "\n",
    "cosine_similarity = linear_kernel(book_Name_matrix, book_Name_matrix, dense_output=False)\n",
    "indices = pd.Series(book_df2.index,index = book_df2['title'])\n",
    "\n",
    "\n",
    "\n",
    "def recommendBasedOnName(cosine_sim=cosine_similarity):\n",
    "    text_file = open(\"results.txt\", \"r\")\n",
    "    lines = text_file.readlines()\n",
    "    text_file.close()\n",
    "    name = lines[1]\n",
    "    book_index = indices[name]\n",
    "    print(book_index)\n",
    "    # Get the pairwsie similarity scores of all books compared to that book, \n",
    "    similarity_scores = list(enumerate(cosine_sim[book_index]))\n",
    "    print(similarity_scores)\n",
    "    #sort in descending order the similarity score of movie inputted with all the other movies\n",
    "    similarity_scores = sorted(similarity_scores, key=lambda x: x[1], reverse=True)\n",
    "    print(similarity_scores)\n",
    "    # sorting them and getting top 5\n",
    "    similarity_scores = similarity_scores[1:6]\n",
    "    print(similarity_scores)\n",
    "    #return movie names using the mapping series\n",
    "    books_index = [i[0] for i in similarity_scores]\n",
    "    print(books_index)\n",
    "    return (book_df2['title'].iloc[books_index])\n",
    "\n",
    "\n",
    "recommendBasedOnName()"
   ]
  }
 ],
 "metadata": {
  "interpreter": {
   "hash": "948d7a2360735b5d9919d76f70f1def2fe8bb5af33f946732329cdd4db2b50af"
  },
  "kernelspec": {
   "display_name": "Python 3",
   "language": "python",
   "name": "python3"
  },
  "language_info": {
   "codemirror_mode": {
    "name": "ipython",
    "version": 3
   },
   "file_extension": ".py",
   "mimetype": "text/x-python",
   "name": "python",
   "nbconvert_exporter": "python",
   "pygments_lexer": "ipython3",
   "version": "3.8.5"
  }
 },
 "nbformat": 4,
 "nbformat_minor": 2
}
